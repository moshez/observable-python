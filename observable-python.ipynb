{
 "cells": [
  {
   "cell_type": "markdown",
   "metadata": {},
   "source": [
    "```{=latex}\n",
    "\\usepackage{hyperref}\n",
    "\\usepackage{graphicx}\n",
    "\\usepackage{listings}\n",
    "\\usepackage{textcomp}\n",
    "\\usepackage{fancyvrb}\n",
    "\n",
    "\\newcommand{\\passthrough}[1]{\\lstset{mathescape=false}#1\\lstset{mathescape=true}}\n",
    "\\newcommand{\\tightlist}{}\n",
    "```"
   ]
  },
  {
   "cell_type": "markdown",
   "metadata": {},
   "source": [
    "```{=latex}\n",
    "\\title{Observable Python Applications}\n",
    "\\author{Moshe Zadka -- https://cobordism.com}\n",
    "\\date{}\n",
    "\n",
    "\\begin{document}\n",
    "\\begin{titlepage}\n",
    "\\maketitle\n",
    "\\end{titlepage}\n",
    "\n",
    "\\frame{\\titlepage}\n",
    "```"
   ]
  },
  {
   "cell_type": "markdown",
   "metadata": {},
   "source": [
    "```{=latex}\n",
    "\\begin{frame}\n",
    "\\frametitle{Acknowledgement of Country}\n",
    "\n",
    "Belmont (in San Francisco Bay Area Peninsula)\n",
    "\n",
    "Ancestral homeland of the Ramaytush Ohlone\n",
    "\n",
    "\\end{frame}\n",
    "```"
   ]
  },
  {
   "cell_type": "markdown",
   "metadata": {},
   "source": [
    "## Introduction to Observability"
   ]
  },
  {
   "cell_type": "markdown",
   "metadata": {},
   "source": [
    "### What is observability?\n",
    "\n",
    "Our applications execute a lot of code,\n",
    "in a way that is invisible.\n",
    "Is this code working?\n",
    "Is it working well?\n",
    "Who is using it?\n",
    "How?\n",
    "\n",
    "Observability is the ability to look at data\n",
    "that tells you what your code is doing.\n",
    "Mostly,\n",
    "in this context,\n",
    "the main problem area is server code in distributed systems.\n",
    "\n",
    "It is not that observability is not important for clients:\n",
    "just that clients tend not to be written in Python.\n",
    "It's not that observability does not matter for,\n",
    "say,\n",
    "data science,\n",
    "it is that the tooling for observability there\n",
    "(mostly Juptyter and quick feedback)\n",
    "are different."
   ]
  },
  {
   "cell_type": "markdown",
   "metadata": {},
   "source": [
    "```{=latex}\n",
    "\\begin{frame}\n",
    "\\frametitle{What is observability}\n",
    "\n",
    "It's 5pm,\n",
    "do you know where your application is?\n",
    "\n",
    "\\end{frame}\n",
    "```"
   ]
  },
  {
   "cell_type": "markdown",
   "metadata": {},
   "source": [
    "### Why does observability matter?\n",
    "\n",
    "So why does observability matter?\n",
    "Observability is a key part of\n",
    "software development life cycle.\n",
    "\n",
    "Shipping an application is not the end,\n",
    "it is the beginning of a new cycle.\n",
    "The first step is to know the new version is running well.\n",
    "Otherwise,\n",
    "a rollback is probably needed.\n",
    "\n",
    "Then,\n",
    "you need to know what is going on\n",
    "to know what to work on next.\n",
    "Which features are working well?\n",
    "Which ones have subtle bugs?\n",
    "\n",
    "Things fail in weird ways.\n",
    "Whether it is a natural disaster,\n",
    "a roll-out of underlying infrastructure,\n",
    "or an application getting into a strange state,\n",
    "things can fail at any time,\n",
    "for any reason.\n",
    "\n",
    "Outside of the normal SDLC,\n",
    "you need to know that everything is still running.\n",
    "If it is not running,\n",
    "it is impportant to be able to know how it is failing."
   ]
  },
  {
   "cell_type": "markdown",
   "metadata": {},
   "source": [
    "```{=latex}\n",
    "\\begin{frame}\n",
    "\\frametitle{Why observability}\n",
    "\n",
    "Ship it and forget it?\n",
    "\n",
    "\\end{frame}\n",
    "```"
   ]
  },
  {
   "cell_type": "markdown",
   "metadata": {},
   "source": [
    "### Feedback\n",
    "\n",
    "The first part of observability is getting\n",
    "*feedback*.\n",
    "When code gives information about what it is doing,\n",
    "this can help in many ways.\n",
    "\n",
    "In a staging or testing environment,\n",
    "this helps find problems\n",
    "and,\n",
    "more importantly,\n",
    "triage them in a faster way.\n",
    "This improves the tooling and communication\n",
    "around the validation step.\n",
    "\n",
    "When doing a canary deployment,\n",
    "or changing a feature flag,\n",
    "feedback is also important.\n",
    "This lets you know whether to continue,\n",
    "wait longer,\n",
    "or roll it back."
   ]
  },
  {
   "cell_type": "markdown",
   "metadata": {},
   "source": [
    "```{=latex}\n",
    "\\begin{frame}\n",
    "\\frametitle{Feedback}\n",
    "\n",
    "Is my code doing what I think it does?\n",
    "\n",
    "\\end{frame}\n",
    "```"
   ]
  },
  {
   "cell_type": "markdown",
   "metadata": {},
   "source": [
    "### Monitor\n",
    "\n",
    "Sometimes you suspect that something has gone wrong.\n",
    "Maybe a dependent service is having issues,\n",
    "or maybe Twitter is,\n",
    "um,\n",
    "a-Twitter with questions about your site.\n",
    "\n",
    "Maybe there is a complicated operations in a related system,\n",
    "and you want to make sure your system is handling it well.\n",
    "In those case,\n",
    "you want to aggregate the data from your observability system\n",
    "into\n",
    "*dashboards*.\n",
    "\n",
    "When writing the application,\n",
    "these dashboards need to be part of the design criteria.\n",
    "The only way they will have data to display\n",
    "is if the application shares it with them."
   ]
  },
  {
   "cell_type": "markdown",
   "metadata": {},
   "source": [
    "```{=latex}\n",
    "\\begin{frame}\n",
    "\\frametitle{Monitor}\n",
    "\n",
    "What is going on right now?\n",
    "\n",
    "\\end{frame}\n",
    "```"
   ]
  },
  {
   "cell_type": "markdown",
   "metadata": {},
   "source": [
    "### Alert\n",
    "\n",
    "Watching dashboards for more than 15 minutes at a time\n",
    "is like watching paint dry.\n",
    "No human should be subjected to this.\n",
    "\n",
    "For this,\n",
    "we have alerting systems.\n",
    "Alerting systems compare the observability data\n",
    "to the expected data,\n",
    "and send a notification when it is not.\n",
    "\n",
    "Fully delving into incident management is beyond the scope.\n",
    "However,\n",
    "observable applications are alert-friendly in two ways:\n",
    "\n",
    "* They produce enough data, with enough quality,\n",
    "  that high quality alerts can be sent.\n",
    "* The alert either has enough data,\n",
    "  or the receiver can easily get the data,\n",
    "  to help triage the source.\n",
    "  \n",
    "High quality alerts have three properties:\n",
    "\n",
    "* Low false alarms: if the alert fires, there is a problem.\n",
    "* Low missing alarms: the alert fires whenever there is a problem.\n",
    "* Timeley: The alert is sent quickly to minimize time to recovery.\n",
    "\n",
    "These three properties are in a three-way conflict.\n",
    "You can reduce false alarms by raising the threshold of detection,\n",
    "at the cost of increasing missing alarms.\n",
    "You can reduce missing alarms by lowering the threshold of detection,\n",
    "at the cost of increasing false alarms.\n",
    "You can reduce both false alarms and missing alarms by collecting more data,\n",
    "at the cost of timeliness.\n",
    "\n",
    "Improving\n",
    "all three parameters\n",
    "is harder to do.\n",
    "This is where the quality of observability data comes in.\n",
    "Higher quality data can reduce all three."
   ]
  },
  {
   "cell_type": "markdown",
   "metadata": {},
   "source": [
    "```{=latex}\n",
    "\\begin{frame}\n",
    "\\frametitle{Alert}\n",
    "\n",
    "Is there a problem?\n",
    "\n",
    "\\end{frame}\n",
    "```"
   ]
  },
  {
   "cell_type": "markdown",
   "metadata": {},
   "source": [
    "## Logging"
   ]
  },
  {
   "cell_type": "markdown",
   "metadata": {},
   "source": [
    "### Intro to logging\n",
    "\n",
    "Some people like to make fun of print-based debugging.\n",
    "But in a world where most software runs on\n",
    "not-your-local-PC,\n",
    "print debugging is all you can do.\n",
    "\n",
    "Logging is a formalization of print debugging.\n",
    "The Python logging library,\n",
    "for all of its faults,\n",
    "allows standardized logging.\n",
    "\n",
    "Most importantly,\n",
    "it means you can\n",
    "*log from libraries*.\n",
    "The application is responsible for configuring which logs go where.\n",
    "\n",
    "Ironically,\n",
    "after many years where applications were literally responsible for that,\n",
    "this is less and less true.\n",
    "Modern applications in a modern container orchestration environment\n",
    "will log to stdandard error\n",
    "and standard output,\n",
    "and trust the orchestration system to properly manage the log.\n",
    "\n",
    "However,\n",
    "you should not rely on it in libraries --\n",
    "or pretty much anywhere.\n",
    "If you want to let the operator know what is going on,\n",
    "using logging,\n",
    "not print.\n"
   ]
  },
  {
   "cell_type": "markdown",
   "metadata": {},
   "source": [
    "```{=latex}\n",
    "\\begin{frame}\n",
    "\\frametitle{logging}\n",
    "\n",
    "A print for the modern world\n",
    "\n",
    "\\end{frame}\n",
    "```"
   ]
  },
  {
   "cell_type": "markdown",
   "metadata": {},
   "source": [
    "### Logging levels\n",
    "\n",
    "One of the most important features of logging is\n",
    "*logging levels*.\n",
    "Logging levels allow you to filter and route logs appropriately.\n",
    "\n",
    "But this can only be done if logging levels are\n",
    "*consistent*.\n",
    "At the very least,\n",
    "you should make them consistent across your applications."
   ]
  },
  {
   "cell_type": "markdown",
   "metadata": {},
   "source": [
    "```{=latex}\n",
    "\\begin{frame}\n",
    "\\frametitle{logging levels}\n",
    "\n",
    "What should go where?\n",
    "\n",
    "Consistent semantics\n",
    "\n",
    "\\end{frame}\n",
    "```"
   ]
  },
  {
   "cell_type": "markdown",
   "metadata": {},
   "source": [
    "With a little help,\n",
    "libraries that choose incompatible semantics can be retroactively fixed\n",
    "by appropriate configuration at the application level.\n",
    "This is done by using the most important universal convention in Python:\n",
    "using the\n",
    "`getLogger(__name-_)`.\n",
    "\n",
    "Most reasonable libraries follow this convention.\n",
    "Filters can modify logging objects in place before they are emitted.\n",
    "You can attach a filter to the handler that will modify\n",
    "the messages based on the name to have appropriate levels."
   ]
  },
  {
   "cell_type": "markdown",
   "metadata": {},
   "source": [
    "```{=latex}\n",
    "\\begin{frame}[fragile]\n",
    "\\frametitle{Fixing logging levels}\n",
    "\n",
    "Filter\\pause\n",
    "name\n",
    "```"
   ]
  },
  {
   "cell_type": "code",
   "execution_count": null,
   "metadata": {},
   "outputs": [],
   "source": [
    "import logging\n",
    "\n",
    "LOGGER=logging.getLogger(__name__)"
   ]
  },
  {
   "cell_type": "markdown",
   "metadata": {},
   "source": [
    "```{=latex}\n",
    "\\end{frame}\n",
    "```"
   ]
  },
  {
   "cell_type": "markdown",
   "metadata": {},
   "source": [
    "With this in mind,\n",
    "you now how to actually specify semantics for logging levels.\n",
    "There are  a lot of options, but the following is my favorite:\n",
    "\n",
    "* Error: this should send an immediate alert.\n",
    "  The application is in a state that requires operator attention.\n",
    "  (This means that Critical and Error are folded)\n",
    "* Warning: \"Soft\" alert. I like to call those\n",
    "  \"Business hours alerts\". Someone should look at this within\n",
    "  one business day.\n",
    "* Info: This is emitted during normal flow. It is designed\n",
    "  to help people understand what the application is doing\n",
    "  if they already suspect a problem.\n",
    "* Debug: This is not emitted in the production environment by default.\n",
    "  It might or might not be emitted in development or staging,\n",
    "  and can possibly be turned on explicitly in production if more\n",
    "  information is needed."
   ]
  },
  {
   "cell_type": "markdown",
   "metadata": {},
   "source": [
    "```{=latex}\n",
    "\\begin{frame}\n",
    "\\frametitle{logging level semantics}\n",
    "\n",
    "\\begin{itemize}\n",
    "\\item Error: Alert now\n",
    "\\item Warning: Alert in business hours\n",
    "\\item Info: In Prod\n",
    "\\item Debug: Staging/Explicit\n",
    "\\end{itemize}\n",
    "\n",
    "\\end{frame}\n",
    "```"
   ]
  },
  {
   "cell_type": "markdown",
   "metadata": {},
   "source": [
    "In no case should you emit\n",
    "PII (personally identifying information)\n",
    "or passwords into logs.\n",
    "This is true regardless of levels.\n",
    "\n",
    "Levels change, debug levels activated, etc.\n",
    "Logging aggregation systems are rarely PII-safe,\n",
    "especially with evolving PII regulation\n",
    "(HIPAA, GDPR, etc. etc.)"
   ]
  },
  {
   "cell_type": "markdown",
   "metadata": {},
   "source": [
    "```{=latex}\n",
    "\\begin{frame}\n",
    "\\frametitle{logging privacy}\n",
    "\n",
    "No PII\\pause\n",
    "\n",
    "no passwords\\pause\n",
    "\n",
    "regardless of levels\n",
    "\n",
    "\\end{frame}\n",
    "```"
   ]
  },
  {
   "cell_type": "markdown",
   "metadata": {},
   "source": [
    "### Logging aggregation\n",
    "\n",
    "Modern systems are almost always distributed.\n",
    "Redundancy, scaling,\n",
    "and sometimes jurisdictional needs mean horizontal distribution.\n",
    "Microservices mean vertical distribution.\n",
    "\n",
    "Logging into each machine to check the logs is no longer realistic.\n",
    "It is often a bad idea for proper control reasons:\n",
    "logging into a machine is too much.\n",
    "\n",
    "All logs should be sent into an aggregator.\n",
    "There are commercial offerings,\n",
    "you can configure an ELK stack,\n",
    "or use any other database\n",
    "(SQL or no-SQL).\n",
    "\n",
    "As a really low-tech solution,\n",
    "you can write the logs to files and ship them\n",
    "to an object storage.\n",
    "There are too many solutions to explain,\n",
    "but the most important thing is to\n",
    "*choose one*\n",
    "and aggregate everything to it."
   ]
  },
  {
   "cell_type": "markdown",
   "metadata": {},
   "source": [
    "```{=latex}\n",
    "\\begin{frame}\n",
    "\\frametitle{logging aggregation}\n",
    "\n",
    "All instances -> Centralized server\\pause\n",
    "\n",
    "Query and Alert\n",
    "\n",
    "\\end{frame}\n",
    "```"
   ]
  },
  {
   "cell_type": "markdown",
   "metadata": {},
   "source": [
    "### Logging queries\n",
    "\n",
    "After logging everything to one place,\n",
    "there are too many logs.\n",
    "The specific aggregator will define how to write queries,\n",
    "but whether it's grepping in an S3 bucket\n",
    "or writing NoSQL queries,\n",
    "logging queries to match source and details\n",
    "will be useful.\n"
   ]
  },
  {
   "cell_type": "markdown",
   "metadata": {},
   "source": [
    "```{=latex}\n",
    "\\begin{frame}\n",
    "\\frametitle{logging queries}\n",
    "\n",
    "Match\\pause\n",
    "\n",
    "Source\n",
    "\n",
    "\\end{frame}\n",
    "```"
   ]
  },
  {
   "cell_type": "markdown",
   "metadata": {},
   "source": [
    "## Metric scraping"
   ]
  },
  {
   "cell_type": "markdown",
   "metadata": {},
   "source": [
    "Metrics scraping is a server pull model.\n",
    "The metrics server connects to the application,\n",
    "periodically,\n",
    "and pulls the metrics.\n",
    "At the very least,\n",
    "this means the server needs connectivity\n",
    "and discovery for all relevant application servers."
   ]
  },
  {
   "cell_type": "markdown",
   "metadata": {},
   "source": [
    "```{=latex}\n",
    "\\begin{frame}\n",
    "\\frametitle{Metrics scraping}\n",
    "\n",
    "Server pull model\n",
    "\n",
    "\\end{frame}\n",
    "```"
   ]
  },
  {
   "cell_type": "markdown",
   "metadata": {},
   "source": [
    "### Prometheus as a standard\n",
    "\n",
    "The prometheus format as an endpoint is useful if your metrics aggregator\n",
    "*is*\n",
    "prometheus.\n",
    "But it is also useful if it is not!\n",
    "Almost all systems contain a compatiblity shim for prometheus endpoints.\n",
    "\n",
    "Adding a prometheus shim to your application,\n",
    "using the client Python library,\n",
    "allows it to be scraped by most metrics aggregator.\n"
   ]
  },
  {
   "cell_type": "markdown",
   "metadata": {},
   "source": [
    "```{=latex}\n",
    "\\begin{frame}\n",
    "\\frametitle{Prometheus format}\n",
    "\n",
    "All common metrics aggregation systems support it\n",
    "\n",
    "\\end{frame}\n",
    "```"
   ]
  },
  {
   "cell_type": "markdown",
   "metadata": {},
   "source": [
    "Prometheus expects to find,\n",
    "once it discovers the server,\n",
    "a metrics endpoint.\n",
    "This is often part of the application routing,\n",
    "often on\n",
    "`/metrics`.\n",
    "Regardless of the platform of the web application,\n",
    "if you can serve a custom byte stream with a custom content type\n",
    "at a given endpoint,\n",
    "you can be scraped by promtheus.\n",
    "\n",
    "For the most popular framework,\n",
    "there will also be a middleware plugin or something equivalent\n",
    "which will automatically collects some metrics,\n",
    "like latency and error rates.\n",
    "This is not usually enough.\n",
    "You will want to collect custom application data:\n",
    "for example,\n",
    "cache hit/miss rates per endpoint,\n",
    "database latency,\n",
    "etc. etc.\n",
    "\n",
    "```{=latex}\n",
    "\\begin{frame}\n",
    "\\frametitle{Web endpoint}\n",
    "\n",
    "Integrate into web framework of choice\\pause\n",
    "\n",
    "Use native library\n",
    "\n",
    "\\end{frame}\n",
    "```"
   ]
  },
  {
   "cell_type": "markdown",
   "metadata": {},
   "source": [
    "### Using counters\n",
    "\n",
    "\n",
    "Prometheus supports several data types.\n",
    "One important,\n",
    "and subtle,\n",
    "type is the\n",
    "*counter*.\n",
    "Counters\n",
    "always advance -- with one caveat.\n",
    "\n",
    "When the application resets,\n",
    "the counter goes back to zero.\n",
    "These \"epochs\" in counters\n",
    "are managed by having the counter\n",
    "\"creation time\"\n",
    "sent as metadata.\n",
    "Prometheus will know not to compare\n",
    "counters\n",
    "from two different epochs."
   ]
  },
  {
   "cell_type": "markdown",
   "metadata": {},
   "source": [
    "```{=latex}\n",
    "\\begin{frame}\n",
    "\\frametitle{Counters}\n",
    "\n",
    "Tick up or die\\pause\n",
    "\n",
    "Hits\\pause\n",
    "\n",
    "Bytes sent\n",
    "\n",
    "\n",
    "\\end{frame}\n",
    "```"
   ]
  },
  {
   "cell_type": "markdown",
   "metadata": {},
   "source": [
    "### Using gauges\n",
    "\n",
    "Gauges are much simpler:\n",
    "they measure instantaneous values.\n",
    "Use them for measurements which can go up and down:\n",
    "for example,\n",
    "total allocated memory,\n",
    "size of cache,\n",
    "etc."
   ]
  },
  {
   "cell_type": "markdown",
   "metadata": {},
   "source": [
    "```{=latex}\n",
    "\\begin{frame}\n",
    "\\frametitle{Gauges}\n",
    "\n",
    "Point in time measurement\\pause\n",
    "\n",
    "Total allocated memory\n",
    "\n",
    "\\end{frame}\n",
    "```"
   ]
  },
  {
   "cell_type": "markdown",
   "metadata": {},
   "source": [
    "### Using enums\n",
    "\n",
    "Enums are useful for states of the application as a whole,\n",
    "though they can be collected on a more granular basis.\n",
    "For example,\n",
    "if you are using a feature gating framework,\n",
    "a feature that can have several \"states\"\n",
    "(\"in use\", \"disabled\", \"shadowing\")\n",
    "might be useful to have as an enum."
   ]
  },
  {
   "cell_type": "markdown",
   "metadata": {},
   "source": [
    "```{=latex}\n",
    "\\begin{frame}\n",
    "\\frametitle{Enums}\n",
    "\n",
    "Different states\\pause\n",
    "\n",
    "0/1 mutually exclusive gauges\n",
    "\n",
    "\\end{frame}\n",
    "```"
   ]
  },
  {
   "cell_type": "markdown",
   "metadata": {},
   "source": [
    "## Analytics\n",
    "\n",
    "Analytics are different from metrics in that they correspond to coherent\n",
    "\"events\".\n",
    "For example,\n",
    "in network servers,\n",
    "an\n",
    "\"event\"\n",
    "is one outside request and its resulting work.\n",
    "In particular,\n",
    "the analytics event cannot be sent until the event\n",
    "is finished.\n",
    "\n",
    "An event contains specific measurements:\n",
    "e.g., latency, number and possibly details of resulting requests to other services,\n",
    "etc."
   ]
  },
  {
   "cell_type": "markdown",
   "metadata": {},
   "source": [
    "```{=latex}\n",
    "\\begin{frame}\n",
    "\\frametitle{Analytics}\n",
    "\n",
    "Per-transaction measurements\n",
    "\n",
    "\\end{frame}\n",
    "```"
   ]
  },
  {
   "cell_type": "markdown",
   "metadata": {},
   "source": [
    "### OpenTelemetry: Strictly in the Future\n",
    "\n",
    "A popular open source framework for collecting analytics is OpenTelemetry.\n",
    "It is the future:\n",
    "but only the future.\n",
    "At this point,\n",
    "major parts of OTEL\n",
    "are still\n",
    "\"experimental\"\n",
    "or\n",
    "\"to be done\".\n",
    "Putting it in production is somewhat fraught."
   ]
  },
  {
   "cell_type": "markdown",
   "metadata": {},
   "source": [
    "```{=latex}\n",
    "\\begin{frame}\n",
    "\\frametitle{OpenTelemetry}\n",
    "\n",
    "Looks good...\\pause\n",
    "\n",
    "but not there yet\n",
    "\n",
    "\\end{frame}\n",
    "```"
   ]
  },
  {
   "cell_type": "markdown",
   "metadata": {},
   "source": [
    "### Structured Logging\n",
    "\n",
    "One current possible option is\n",
    "structured logging.\n",
    "The \"send event\" is just sending a log with a properly formatted payload.\n",
    "This data can be queried from the log aggregator,\n",
    "parsed,\n",
    "and ingested into an appropriate system for allowing visibility into it."
   ]
  },
  {
   "cell_type": "markdown",
   "metadata": {},
   "source": [
    "```{=latex}\n",
    "\\begin{frame}\n",
    "\\frametitle{Structured Logging}\n",
    "\n",
    "Collect data in per-transaction object\\pause\n",
    "\n",
    "Send it to log\n",
    "\n",
    "\\end{frame}\n",
    "```"
   ]
  },
  {
   "cell_type": "markdown",
   "metadata": {},
   "source": [
    "## Error tracking\n",
    "\n",
    "You can use logs to track errors.\n",
    "You can use analytics to track errors.\n",
    "But a dedicated error system is worthwhile.\n",
    "\n",
    "A system optimized for errors can afford to send more data,\n",
    "since errors are rare.\n",
    "It can send the right data.\n",
    "It can do smart things with the data.\n",
    "\n",
    "Error tracking systems in Python usually hook into a generic\n",
    "\"exception handler\",\n",
    "collect data,\n",
    "and send it to a dedicated error aggregator."
   ]
  },
  {
   "cell_type": "markdown",
   "metadata": {},
   "source": [
    "```{=latex}\n",
    "\\begin{frame}\n",
    "\\frametitle{Error Tracking}\n",
    "\n",
    "Detailed data about errors\\pause\n",
    "\n",
    "Usually exceptions\n",
    "\n",
    "\\end{frame}\n",
    "```"
   ]
  },
  {
   "cell_type": "markdown",
   "metadata": {},
   "source": [
    "### Using Sentry\n",
    "\n",
    "In many cases, running Sentry yourself is the right thing to do.\n",
    "When an error has occurred,\n",
    "something has gone wrong.\n",
    "Reliably removing sensitive data is not possible,\n",
    "since these are exactly the cases where the sensitive\n",
    "data might have ended up somewhere it shouldn't.\n",
    "\n",
    "It is also,\n",
    "often,\n",
    "not a big load:\n",
    "exceptions are supposed to be rare.\n",
    "Finally,\n",
    "this is not a system that needs\n",
    "high-quality high reliability backups.\n",
    "Yesterday's errors are already fixed,\n",
    "hopefully,\n",
    "and if they are not --\n",
    "you'll know!"
   ]
  },
  {
   "cell_type": "markdown",
   "metadata": {},
   "source": [
    "```{=latex}\n",
    "\\begin{frame}\n",
    "\\frametitle{Sentry}\n",
    "\n",
    "For most non-trivial cases,\n",
    "run yourself:\\pause\n",
    "\n",
    "Detailed error data can be sensitive!\n",
    "\n",
    "\\end{frame}\n",
    "```"
   ]
  },
  {
   "cell_type": "markdown",
   "metadata": {},
   "source": [
    "## Summary\n",
    "\n",
    "### Fast, Safe, Repeatable: Choose All Three\n",
    "\n",
    "Observable systems are faster to develop, since they give you feedback.\n",
    "They are safer to run,\n",
    "since when they go wrong,\n",
    "they let you know sooner.\n",
    "Finally,\n",
    "observability lends itself to building repeatable processes around it,\n",
    "since there is a feedback loop.\n",
    "\n",
    "Observability gives you knowledge about your application.\n",
    "And knowing is half the battle."
   ]
  },
  {
   "cell_type": "markdown",
   "metadata": {},
   "source": [
    "```{=latex}\n",
    "\\begin{frame}\n",
    "\\frametitle{Data, Not Speculation}\n",
    "\n",
    "Observability -> Knowledge\n",
    "\n",
    "\\end{frame}\n",
    "```"
   ]
  },
  {
   "cell_type": "markdown",
   "metadata": {},
   "source": [
    "### Upfront Investment Pays Off\n",
    "\n",
    "Building all the observability layers is hard work.\n",
    "It also often feels like\n",
    "\"wasted work\",\n",
    "or at least like\n",
    "\"nice to have\".\n",
    "\n",
    "\n",
    "Can you build it later?\n",
    "Maybe, but you shouldn't.\n",
    "Building it right will let you speed up the rest of development so much\n",
    "at all stages:\n",
    "testing, monitoring,\n",
    "and even on-boarding new people.\n",
    "In an industry with as much churn as tech,\n",
    "just reducing the overhead of on-boarding a new person\n",
    "is worth it."
   ]
  },
  {
   "cell_type": "markdown",
   "metadata": {},
   "source": [
    "```{=latex}\n",
    "\\begin{frame}\n",
    "\\frametitle{Return on Investment}\n",
    "\n",
    "\\begin{itemize}\n",
    "\\item Testing \\pause\n",
    "\\item Monitoring \\pause\n",
    "\\item On-boarding\n",
    "\\end{itemize}\n",
    "\n",
    "\\end{frame}\n",
    "```"
   ]
  },
  {
   "cell_type": "markdown",
   "metadata": {},
   "source": [
    "```{=latex}\n",
    "\\end{document}\n",
    "```"
   ]
  }
 ],
 "metadata": {
  "kernelspec": {
   "display_name": "Python 3",
   "language": "python",
   "name": "python3"
  },
  "language_info": {
   "codemirror_mode": {
    "name": "ipython",
    "version": 3
   },
   "file_extension": ".py",
   "mimetype": "text/x-python",
   "name": "python",
   "nbconvert_exporter": "python",
   "pygments_lexer": "ipython3",
   "version": "3.9.0"
  }
 },
 "nbformat": 4,
 "nbformat_minor": 4
}
