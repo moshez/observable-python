{
 "cells": [
  {
   "cell_type": "markdown",
   "metadata": {},
   "source": [
    "```{=latex}\n",
    "\\usepackage{hyperref}\n",
    "\\usepackage{graphicx}\n",
    "\\usepackage{listings}\n",
    "\\usepackage{textcomp}\n",
    "\\usepackage{fancyvrb}\n",
    "\n",
    "\\newcommand{\\passthrough}[1]{\\lstset{mathescape=false}#1\\lstset{mathescape=true}}\n",
    "```"
   ]
  },
  {
   "cell_type": "markdown",
   "metadata": {},
   "source": [
    "```{=latex}\n",
    "\\title{Observable Python Applications}\n",
    "\\author{Moshe Zadka -- https://cobordism.com}\n",
    "\\date{}\n",
    "\n",
    "\\begin{document}\n",
    "\\begin{titlepage}\n",
    "\\maketitle\n",
    "\\end{titlepage}\n",
    "\n",
    "\\frame{\\titlepage}\n",
    "```"
   ]
  },
  {
   "cell_type": "markdown",
   "metadata": {},
   "source": [
    "```{=latex}\n",
    "\\begin{frame}\n",
    "\\frametitle{Acknowledgement of Country}\n",
    "\n",
    "Belmont (in San Francisco Bay Area Peninsula)\n",
    "\n",
    "Ancestral homeland of the Ramaytush Ohlone\n",
    "\n",
    "\\end{frame}\n",
    "```"
   ]
  },
  {
   "cell_type": "markdown",
   "metadata": {},
   "source": [
    "## Introduction to Observability"
   ]
  },
  {
   "cell_type": "markdown",
   "metadata": {},
   "source": [
    "### What is observability?\n",
    "\n",
    "Our applications execute a lot of code,\n",
    "in a way that is invisible.\n",
    "Is this code working?\n",
    "Is it working well?\n",
    "Who is using it?\n",
    "How?\n",
    "\n",
    "Observability is the ability to look at data\n",
    "that tells you what your code is doing.\n",
    "Mostly,\n",
    "in this context,\n",
    "the main problem area is server code in distributed systems.\n",
    "\n",
    "It is not that observability is not important for clients:\n",
    "just that clients tend not to be written in Python.\n",
    "It's not that observability does not matter for,\n",
    "say,\n",
    "data science,\n",
    "it is that the tooling for observability there\n",
    "(mostly Juptyter and quick feedback)\n",
    "are different."
   ]
  },
  {
   "cell_type": "markdown",
   "metadata": {},
   "source": [
    "```{=latex}\n",
    "\\begin{frame}\n",
    "\\frametitle{What is observability}\n",
    "\n",
    "It's 5pm,\n",
    "do you know where your application is?\n",
    "\n",
    "\\end{frame}\n",
    "```"
   ]
  },
  {
   "cell_type": "markdown",
   "metadata": {},
   "source": [
    "### Why does observability matter?\n",
    "\n",
    "So why does observability matter?\n",
    "Observability is a key part of\n",
    "software development life cycle.\n",
    "\n",
    "Shipping an application is not the end,\n",
    "it is the beginning of a new cycle.\n",
    "The first step is to know the new version is running well.\n",
    "Otherwise,\n",
    "a rollback is probably needed.\n",
    "\n",
    "Then,\n",
    "you need to know what is going on\n",
    "to know what to work on next.\n",
    "Which features are working well?\n",
    "Which ones have subtle bugs?\n",
    "\n",
    "Things fail in weird ways.\n",
    "Whether it is a natural disaster,\n",
    "a roll-out of underlying infrastructure,\n",
    "or an application getting into a strange state,\n",
    "things can fail at any time,\n",
    "for any reason.\n",
    "\n",
    "Outside of the normal SDLC,\n",
    "you need to know that everything is still running.\n",
    "If it is not running,\n",
    "it is impportant to be able to know how it is failing."
   ]
  },
  {
   "cell_type": "markdown",
   "metadata": {},
   "source": [
    "```{=latex}\n",
    "\\begin{frame}\n",
    "\\frametitle{Why observability}\n",
    "\n",
    "Ship it and forget it?\n",
    "\n",
    "\\end{frame}\n",
    "```"
   ]
  },
  {
   "cell_type": "markdown",
   "metadata": {},
   "source": [
    "### Feedback\n",
    "\n",
    "The first part of observability is getting\n",
    "*feedback*.\n",
    "When code gives information about what it is doing,\n",
    "this can help in many ways.\n",
    "\n",
    "In a staging or testing environment,\n",
    "this helps find problems\n",
    "and,\n",
    "more importantly,\n",
    "triage them in a faster way.\n",
    "This improves the tooling and communication\n",
    "around the validation step.\n",
    "\n",
    "When doing a canary deployment,\n",
    "or changing a feature flag,\n",
    "feedback is also important.\n",
    "This lets you know whether to continue,\n",
    "wait longer,\n",
    "or roll it back."
   ]
  },
  {
   "cell_type": "markdown",
   "metadata": {},
   "source": [
    "```{=latex}\n",
    "\\begin{frame}\n",
    "\\frametitle{Feedback}\n",
    "\n",
    "Is my code doing what I think it does?\n",
    "\n",
    "\\end{frame}\n",
    "```"
   ]
  },
  {
   "cell_type": "markdown",
   "metadata": {},
   "source": [
    "### Monitor\n",
    "\n",
    "Sometimes you suspect that something has gone wrong.\n",
    "Maybe a dependent service is having issues,\n",
    "or maybe Twitter is,\n",
    "um,\n",
    "a-Twitter with questions about your site.\n",
    "\n",
    "Maybe there is a complicated operations in a related system,\n",
    "and you want to make sure your system is handling it well.\n",
    "In those case,\n",
    "you want to aggregate the data from your observability system\n",
    "into\n",
    "*dashboards*.\n",
    "\n",
    "When writing the application,\n",
    "these dashboards need to be part of the design criteria.\n",
    "The only way they will have data to display\n",
    "is if the application shares it with them."
   ]
  },
  {
   "cell_type": "markdown",
   "metadata": {},
   "source": [
    "```{=latex}\n",
    "\\begin{frame}\n",
    "\\frametitle{Monitor}\n",
    "\n",
    "What is going on right now?\n",
    "\n",
    "\\end{frame}\n",
    "```"
   ]
  },
  {
   "cell_type": "markdown",
   "metadata": {},
   "source": [
    "### Alert\n",
    "\n",
    "Watching dashboards for more than 15 minutes at a time\n",
    "is like watching paint dry.\n",
    "No human should be subjected to this.\n",
    "\n",
    "For this,\n",
    "we have alerting systems.\n",
    "Alerting systems compare the observability data\n",
    "to the expected data,\n",
    "and send a notification when it is not.\n",
    "\n",
    "Fully delving into incident management is beyond the scope.\n",
    "However,\n",
    "observable applications are alert-friendly in two ways:\n",
    "\n",
    "* They produce enough data, with enough quality,\n",
    "  that high quality alerts can be sent.\n",
    "* The alert either has enough data,\n",
    "  or the receiver can easily get the data,\n",
    "  to help triage the source.\n",
    "  \n",
    "High quality alerts have three properties:\n",
    "\n",
    "* Low false alarms: if the alert fires, there is a problem.\n",
    "* Low missing alarms: the alert fires whenever there is a problem.\n",
    "* Timeley: The alert is sent quickly to minimize time to recovery.\n",
    "\n",
    "These three properties are in a three-way conflict.\n",
    "You can reduce false alarms by raising the threshold of detection,\n",
    "at the cost of increasing missing alarms.\n",
    "You can reduce missing alarms by lowering the threshold of detection,\n",
    "at the cost of increasing false alarms.\n",
    "You can reduce both false alarms and missing alarms by collecting more data,\n",
    "at the cost of timeliness.\n",
    "\n",
    "Improving\n",
    "all three parameters\n",
    "is harder to do.\n",
    "This is where the quality of observability data comes in.\n",
    "Higher quality data can reduce all three."
   ]
  },
  {
   "cell_type": "markdown",
   "metadata": {},
   "source": [
    "```{=latex}\n",
    "\\begin{frame}\n",
    "\\frametitle{Alert}\n",
    "\n",
    "Is there a problem?\n",
    "\n",
    "\\end{frame}\n",
    "```"
   ]
  },
  {
   "cell_type": "markdown",
   "metadata": {},
   "source": [
    "## Logging"
   ]
  },
  {
   "cell_type": "markdown",
   "metadata": {},
   "source": [
    "### Intro to logging"
   ]
  },
  {
   "cell_type": "markdown",
   "metadata": {},
   "source": [
    "```{=latex}\n",
    "\\begin{frame}\n",
    "\\frametitle{logging}\n",
    "\n",
    "A print for the modern world\n",
    "\n",
    "\\end{frame}\n",
    "```"
   ]
  },
  {
   "cell_type": "markdown",
   "metadata": {},
   "source": [
    "### Logging levels"
   ]
  },
  {
   "cell_type": "markdown",
   "metadata": {},
   "source": [
    "```{=latex}\n",
    "\\begin{frame}\n",
    "\\frametitle{logging levels}\n",
    "\n",
    "What should go where?\n",
    "\n",
    "Consistent semantics\n",
    "\n",
    "\\end{frame}\n",
    "```"
   ]
  },
  {
   "cell_type": "markdown",
   "metadata": {},
   "source": [
    "```{=latex}\n",
    "\\begin{frame}\n",
    "\\frametitle{logging level semantics}\n",
    "\n",
    "\\begin{itemize}\n",
    "\\item Error: Alert now\n",
    "\\item Warning: Alert in business hours\n",
    "\\item Info: In Prod\n",
    "\\item Debug: Staging/Explicit\n",
    "\\end{itemize}\n",
    "\n",
    "\\end{frame}\n",
    "```"
   ]
  },
  {
   "cell_type": "markdown",
   "metadata": {},
   "source": [
    "### Logging aggregation"
   ]
  },
  {
   "cell_type": "markdown",
   "metadata": {},
   "source": [
    "```{=latex}\n",
    "\\begin{frame}\n",
    "\\frametitle{logging aggregation}\n",
    "\n",
    "All instances -> Centralized server\\pause\n",
    "\n",
    "Query & Alert\n",
    "\n",
    "\\end{frame}\n",
    "```"
   ]
  },
  {
   "cell_type": "markdown",
   "metadata": {},
   "source": [
    "### Logging queries"
   ]
  },
  {
   "cell_type": "markdown",
   "metadata": {},
   "source": [
    "```{=latex}\n",
    "\\begin{frame}\n",
    "\\frametitle{logging queries}\n",
    "\n",
    "Match\\pause\n",
    "\n",
    "Structure\n",
    "\n",
    "\\end{frame}\n",
    "```"
   ]
  },
  {
   "cell_type": "markdown",
   "metadata": {},
   "source": [
    "## Metric scraping"
   ]
  },
  {
   "cell_type": "markdown",
   "metadata": {},
   "source": [
    "```{=latex}\n",
    "\\begin{frame}\n",
    "\\frametitle{Metrics scraping}\n",
    "\n",
    "Server pull model\n",
    "\n",
    "\\end{frame}\n",
    "```"
   ]
  },
  {
   "cell_type": "markdown",
   "metadata": {},
   "source": [
    "### Prometheus as a standard"
   ]
  },
  {
   "cell_type": "markdown",
   "metadata": {},
   "source": [
    "```{=latex}\n",
    "\\begin{frame}\n",
    "\\frametitle{Prometheus format}\n",
    "\n",
    "All common metrics aggregation systems support it\n",
    "\n",
    "\\end{frame}\n",
    "```"
   ]
  },
  {
   "cell_type": "markdown",
   "metadata": {},
   "source": [
    "```{=latex}\n",
    "\\begin{frame}\n",
    "\\frametitle{Web endpoint}\n",
    "\n",
    "Integrate into web framework of choice\\pause\n",
    "\n",
    "Use native library\n",
    "\n",
    "\\end{frame}\n",
    "```"
   ]
  },
  {
   "cell_type": "markdown",
   "metadata": {},
   "source": [
    "### Using counters"
   ]
  },
  {
   "cell_type": "markdown",
   "metadata": {},
   "source": [
    "```{=latex}\n",
    "\\begin{frame}\n",
    "\\frametitle{Counters}\n",
    "\n",
    "Tick up or die\\pause\n",
    "\n",
    "Hits\\pause\n",
    "\n",
    "Bytes sent\n",
    "\n",
    "\n",
    "\\end{frame}\n",
    "```"
   ]
  },
  {
   "cell_type": "markdown",
   "metadata": {},
   "source": [
    "### Using gauges"
   ]
  },
  {
   "cell_type": "markdown",
   "metadata": {},
   "source": [
    "```{=latex}\n",
    "\\begin{frame}\n",
    "\\frametitle{Gauges}\n",
    "\n",
    "Point in time measurement\\pause\n",
    "\n",
    "Total allocated memory\n",
    "\n",
    "\\end{frame}\n",
    "```"
   ]
  },
  {
   "cell_type": "markdown",
   "metadata": {},
   "source": [
    "### Using enums"
   ]
  },
  {
   "cell_type": "markdown",
   "metadata": {},
   "source": [
    "```{=latex}\n",
    "\\begin{frame}\n",
    "\\frametitle{Enums}\n",
    "\n",
    "Different states\\pause\n",
    "\n",
    "0/1 mutually exclusive gauges\n",
    "\n",
    "\\end{frame}\n",
    "```"
   ]
  },
  {
   "cell_type": "markdown",
   "metadata": {},
   "source": [
    "## Analytics"
   ]
  },
  {
   "cell_type": "markdown",
   "metadata": {},
   "source": [
    "```{=latex}\n",
    "\\begin{frame}\n",
    "\\frametitle{Analytics}\n",
    "\n",
    "Per-transaction measurements\n",
    "\n",
    "\\end{frame}\n",
    "```"
   ]
  },
  {
   "cell_type": "markdown",
   "metadata": {},
   "source": [
    "### OpenTelemetry: Strictly in the Future"
   ]
  },
  {
   "cell_type": "markdown",
   "metadata": {},
   "source": [
    "```{=latex}\n",
    "\\begin{frame}\n",
    "\\frametitle{OpenTelemetry}\n",
    "\n",
    "Looks good...\\pause\n",
    "\n",
    "but not there yet\n",
    "\n",
    "\\end{frame}\n",
    "```"
   ]
  },
  {
   "cell_type": "markdown",
   "metadata": {},
   "source": [
    "### Structured Logging"
   ]
  },
  {
   "cell_type": "markdown",
   "metadata": {},
   "source": [
    "```{=latex}\n",
    "\\begin{frame}\n",
    "\\frametitle{Structured Logging}\n",
    "\n",
    "Collect data in per-transaction object\\pause\n",
    "\n",
    "Send it to log\n",
    "\n",
    "\\end{frame}\n",
    "```"
   ]
  },
  {
   "cell_type": "markdown",
   "metadata": {},
   "source": [
    "## Error tracking"
   ]
  },
  {
   "cell_type": "markdown",
   "metadata": {},
   "source": [
    "```{=latex}\n",
    "\\begin{frame}\n",
    "\\frametitle{Error Tracking}\n",
    "\n",
    "Detailed data about errors\\pause\n",
    "\n",
    "Usually exceptions\n",
    "\n",
    "\\end{frame}\n",
    "```"
   ]
  },
  {
   "cell_type": "markdown",
   "metadata": {},
   "source": [
    "### Using Sentry"
   ]
  },
  {
   "cell_type": "markdown",
   "metadata": {},
   "source": [
    "```{=latex}\n",
    "\\begin{frame}\n",
    "\\frametitle{Sentry}\n",
    "\n",
    "For most non-trivial cases,\n",
    "run yourself:\\pause\n",
    "\n",
    "Detailed error data can be sensitive!\n",
    "\n",
    "\\end{frame}\n",
    "```"
   ]
  },
  {
   "cell_type": "markdown",
   "metadata": {},
   "source": [
    "## Summary\n",
    "\n",
    "### Fast, Safe, Repeatable: Choose All Three"
   ]
  },
  {
   "cell_type": "markdown",
   "metadata": {},
   "source": [
    "```{=latex}\n",
    "\\begin{frame}\n",
    "\\frametitle{Data, Not Speculation}\n",
    "\n",
    "Observability -> Knowledge\n",
    "\n",
    "\\end{frame}\n",
    "```"
   ]
  },
  {
   "cell_type": "markdown",
   "metadata": {},
   "source": [
    "### Upfront Investment Pays Off"
   ]
  },
  {
   "cell_type": "markdown",
   "metadata": {},
   "source": [
    "```{=latex}\n",
    "\\begin{frame}\n",
    "\\frametitle{Return on Investment}\n",
    "\n",
    "\\begin{itemize}\n",
    "\\item Testing \\pause\n",
    "\\item Monitoring \\pause\n",
    "\\item On-boarding\n",
    "\\end{itemize}\n",
    "\n",
    "\\end{frame}\n",
    "```"
   ]
  },
  {
   "cell_type": "markdown",
   "metadata": {},
   "source": [
    "```{=latex}\n",
    "\\end{document}\n",
    "```"
   ]
  }
 ],
 "metadata": {
  "kernelspec": {
   "display_name": "Python 3",
   "language": "python",
   "name": "python3"
  },
  "language_info": {
   "codemirror_mode": {
    "name": "ipython",
    "version": 3
   },
   "file_extension": ".py",
   "mimetype": "text/x-python",
   "name": "python",
   "nbconvert_exporter": "python",
   "pygments_lexer": "ipython3",
   "version": "3.9.0"
  }
 },
 "nbformat": 4,
 "nbformat_minor": 4
}
